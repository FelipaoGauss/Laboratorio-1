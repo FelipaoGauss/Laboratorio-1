{
 "cells": [
  {
   "cell_type": "markdown",
   "id": "e12ab2aa-a87d-4870-8dae-959c2d4a580a",
   "metadata": {},
   "source": [
    "# ¿Que es un Git?"
   ]
  },
  {
   "cell_type": "markdown",
   "id": "dfdd3ae1-f195-4fc9-9e6e-e14ce35829b9",
   "metadata": {},
   "source": [
    "Git es un sistema de control de versiones distribuido que se utiliza para rastrear cambios en el código fuente durante el desarrollo de software. Fue creado por Linus Torvalds en 2005 y se ha convertido en uno de los sistemas de control de versiones más populares y ampliamente utilizados en la industria del desarrollo de software."
   ]
  },
  {
   "cell_type": "markdown",
   "id": "f219e0f6-24e1-485e-a6fd-63c0a0007314",
   "metadata": {
    "tags": []
   },
   "source": [
    "## Funcion de un Git"
   ]
  },
  {
   "cell_type": "markdown",
   "id": "f6910302-d56e-4ac8-873a-1cfe5c841024",
   "metadata": {},
   "source": [
    "La principal función de Git es permitir a los desarrolladores trabajar de manera colaborativa en proyectos de software, manteniendo un historial de cambios, facilitando la colaboración entre equipos y permitiendo la gestión eficiente de ramas de desarrollo."
   ]
  },
  {
   "cell_type": "markdown",
   "id": "3fd0c2f5-9de3-47e7-aeb0-b13aeb29c962",
   "metadata": {},
   "source": [
    "## Conceptos basicos "
   ]
  },
  {
   "cell_type": "markdown",
   "id": "de1b799f-5575-42e8-a544-6321bb7a84ef",
   "metadata": {
    "tags": []
   },
   "source": [
    "* <strong>Repositorio:</strong> Un repositorio de Git es un almacén de datos que contiene el historial completo de un      proyecto, así como la información sobre las diferentes versiones y ramas.\n",
    "* <strong>Commit:</strong> Un commit es un conjunto de cambios en el código que se registra en el historial del repositorio. Cada commit tiene un mensaje descriptivo que explica los cambios realizados.\n",
    "* <strong>Rama (Branch):</strong> Git permite la creación de ramas independientes para trabajar en nuevas funcionalidades o correcciones de errores sin afectar la rama principal (por lo general llamada \"master\" o \"main\"). Esto facilita la colaboración y la implementación de nuevas características de manera aislada.\n",
    "* <strong>Fusionar (Merge):</strong> Git facilita la combinación de cambios realizados en diferentes ramas. Cuando se completa el desarrollo en una rama, los cambios pueden fusionarse con la rama principal.\n",
    "* <strong>Clonar:</strong> Crear una copia local de un repositorio remoto. Esto permite a los desarrolladores trabajar en sus propias copias y contribuir al proyecto sin afectar directamente el repositorio principal.\n",
    "* <strong>Push y Pull:</strong> Push se refiere a enviar cambios locales a un repositorio remoto, mientras que pull es obtener los cambios más recientes del repositorio remoto y aplicarlos en el repositorio local.\n"
   ]
  },
  {
   "cell_type": "markdown",
   "id": "92e5556f-c27e-478d-9148-dff45fd47401",
   "metadata": {
    "tags": []
   },
   "source": [
    "# ¿ Qué es github?"
   ]
  },
  {
   "cell_type": "markdown",
   "id": "6878d6e9-3ffc-4bc8-88e4-ecd18d234684",
   "metadata": {},
   "source": [
    "GitHub es una plataforma de desarrollo colaborativo basada en Git. Proporciona servicios para el control de versiones y alojamiento de repositorios, lo que facilita la colaboración entre desarrolladores y equipos de trabajo en proyectos de software."
   ]
  },
  {
   "cell_type": "markdown",
   "id": "bbc755f6-f666-402d-a976-69ab06343543",
   "metadata": {},
   "source": [
    "# características clave de GitHub"
   ]
  },
  {
   "cell_type": "markdown",
   "id": "ce3b3c3c-51a7-4892-97bb-0d669a8e1ede",
   "metadata": {},
   "source": [
    "* <strong>Control de versiones:</strong>GitHub utiliza el sistema de control de versiones distribuido Git para rastrear cambios en el código fuente. Esto permite a los desarrolladores trabajar en paralelo en diferentes ramas, fusionar cambios y mantener un historial completo de las modificaciones realizadas en el proyecto.\n",
    "* <strong>Repositorios:</strong>Los proyectos en GitHub se almacenan en repositorios. Un repositorio es un espacio donde se almacenan todos los archivos relacionados con un proyecto, junto con su historial de cambios.\n",
    "* <strong>Colaboración:</strong>GitHub facilita la colaboración entre desarrolladores y equipos. Varios desarrolladores pueden contribuir al mismo proyecto, ya sea a través de solicitudes de extracción (pull requests) para proponer cambios o mediante problemas (issues) para reportar errores, discutir nuevas características, etc.\n",
    "* <strong>Solicitudes de extracción (Pull Requests):</strong> Permiten a los desarrolladores proponer cambios a un proyecto y solicitar que esos cambios se fusionen con la rama principal. Esto facilita la revisión del código y la integración de nuevas funcionalidades o correcciones.\n",
    "* <strong>Gestión de problemas (Issues):</strong> Se utilizan para realizar un seguimiento de tareas, errores, mejoras y discusiones relacionadas con el proyecto. Los problemas pueden asignarse a diferentes personas y etiquetarse según su estado o prioridad.\n",
    "* <strong>Despliegue continuo (Continuous Integration/Continuous Deployment - CI/CD):</strong> GitHub integra herramientas de CI/CD que permiten la automatización de pruebas y la implementación continua de cambios en un entorno de producción."
   ]
  },
  {
   "cell_type": "markdown",
   "id": "6a396ecc-7f96-4a95-ba36-c53075b4b77d",
   "metadata": {},
   "source": [
    "#  MagicCells"
   ]
  },
  {
   "cell_type": "markdown",
   "id": "c633afec-5c0e-4f44-b6dc-415bc48d6217",
   "metadata": {},
   "source": [
    "El término \"Magic\" generalmente se asocia con las celdas mágicas en los Jupyter Notebooks. Las celdas mágicas son comandos especiales que pueden proporcionar funcionalidades adicionales. Por ejemplo, en un entorno de Jupyter Notebook, puedes tener celdas mágicas para ejecutar código en diferentes lenguajes, medir el tiempo de ejecución, o incluso realizar funciones específicas del entorno."
   ]
  }
 ],
 "metadata": {
  "kernelspec": {
   "display_name": "Python 3 (ipykernel)",
   "language": "python",
   "name": "python3"
  },
  "language_info": {
   "codemirror_mode": {
    "name": "ipython",
    "version": 3
   },
   "file_extension": ".py",
   "mimetype": "text/x-python",
   "name": "python",
   "nbconvert_exporter": "python",
   "pygments_lexer": "ipython3",
   "version": "3.11.5"
  }
 },
 "nbformat": 4,
 "nbformat_minor": 5
}
